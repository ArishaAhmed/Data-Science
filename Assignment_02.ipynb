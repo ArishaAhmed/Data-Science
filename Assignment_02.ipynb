{
  "nbformat": 4,
  "nbformat_minor": 0,
  "metadata": {
    "colab": {
      "provenance": []
    },
    "kernelspec": {
      "name": "python3",
      "display_name": "Python 3"
    },
    "language_info": {
      "name": "python"
    }
  },
  "cells": [
    {
      "cell_type": "markdown",
      "source": [
        "## Task 01:\n",
        "\n",
        "Print Your Name with your Father name and Date of birth using suitable escape sequence charactor\n",
        "\n"
      ],
      "metadata": {
        "id": "bb0O0xtk1v9t"
      }
    },
    {
      "cell_type": "code",
      "source": [
        "from google.colab import drive\n",
        "drive.mount('/content/drive')"
      ],
      "metadata": {
        "id": "xMTAjhuS--30"
      },
      "execution_count": null,
      "outputs": []
    },
    {
      "cell_type": "code",
      "source": [
        "# Write your code here\n",
        "print(\"Arisha Ahmed\",\"Khurshid Ahmed\",\"29th March\", sep = '\\n')"
      ],
      "metadata": {
        "id": "U7LLGIkO2Ixa",
        "colab": {
          "base_uri": "https://localhost:8080/"
        },
        "outputId": "8fb7cf53-a45e-4a96-a0ae-66da1250f46c"
      },
      "execution_count": 13,
      "outputs": [
        {
          "output_type": "stream",
          "name": "stdout",
          "text": [
            "Arisha Ahmed\n",
            "Khurshid Ahmed\n",
            "29th March\n"
          ]
        }
      ]
    },
    {
      "cell_type": "markdown",
      "source": [
        "# Task 02:\n",
        "\n",
        "Write your small bio using variables and print it using print function"
      ],
      "metadata": {
        "id": "TU-xwiLV2NgB"
      }
    },
    {
      "cell_type": "code",
      "source": [
        "# Write your code here\n",
        "name = 'Arisha Ahmed'\n",
        "Dept = 'Computer Science'\n",
        "Year = '3rd'\n",
        "University = \"NED University of Engineering & Technology\"\n",
        "print(\"I am \"+ name+ \", student of \" + Year+ \" year, studying \"+ Dept+ \" from \" + University )"
      ],
      "metadata": {
        "id": "Dw8w3rwl2wDB",
        "colab": {
          "base_uri": "https://localhost:8080/"
        },
        "outputId": "b7c7f095-1dbd-4d7d-b2a6-242a9de14051"
      },
      "execution_count": 8,
      "outputs": [
        {
          "output_type": "stream",
          "name": "stdout",
          "text": [
            "I am Arisha Ahmed, student of 3rd year, studying Computer Science from NED University of Engineering & Technology\n"
          ]
        }
      ]
    },
    {
      "cell_type": "markdown",
      "source": [
        "# Task 03:\n",
        "\n",
        "Write a program in which use all the operators we can use in Python"
      ],
      "metadata": {
        "id": "F2lcZuDe2ztv"
      }
    },
    {
      "cell_type": "code",
      "source": [
        "# Write your code here\n",
        "\n",
        "a = 5\n",
        "b = 20\n",
        "print('Addition: ', a + b)\n",
        "print('Subtraction: ', a - b)\n",
        "print('Multiplication: ', a * b)\n",
        "print('Division: ', a / b)\n",
        "print('Power of b over a: ', b**a)"
      ],
      "metadata": {
        "id": "lEJhzsXh3e7K",
        "colab": {
          "base_uri": "https://localhost:8080/"
        },
        "outputId": "39f6adfc-a385-42d0-da4a-ef9eda77ce8a"
      },
      "execution_count": 10,
      "outputs": [
        {
          "output_type": "stream",
          "name": "stdout",
          "text": [
            "Addition:  25\n",
            "Subtraction:  -15\n",
            "Multiplication:  100\n",
            "Division:  0.25\n",
            "Power of b over a:  3200000\n"
          ]
        }
      ]
    },
    {
      "cell_type": "markdown",
      "source": [
        "# Task 04:\n",
        "\n",
        "\n",
        "1. Mention Marks of English , Islamiat and Maths out of 100 in 3 different variables\n",
        "\n",
        "2. Mention Variable of Total Marks and assign 300 to it\n",
        "\n",
        "3. Calculate Percentage"
      ],
      "metadata": {
        "id": "i4N14TJU3l7n"
      }
    },
    {
      "cell_type": "code",
      "source": [
        "# Write your code here\n",
        "Eng = 90\n",
        "Isl = 98\n",
        "Maths = 100\n",
        "Total_Marks = 300\n",
        "result = (Eng + Isl + Maths)*100/Total_Marks\n",
        "print(\"Percentage \",result, \"%\")"
      ],
      "metadata": {
        "id": "nxojzvRg5PP4",
        "colab": {
          "base_uri": "https://localhost:8080/"
        },
        "outputId": "171a43ad-eabf-43f1-caba-27f0dc567c90"
      },
      "execution_count": 12,
      "outputs": [
        {
          "output_type": "stream",
          "name": "stdout",
          "text": [
            "Percentage  96.0 %\n"
          ]
        }
      ]
    },
    {
      "cell_type": "code",
      "source": [],
      "metadata": {
        "id": "YtCRLOde-sRv"
      },
      "execution_count": null,
      "outputs": []
    }
  ]
}