{
  "cells": [
    {
      "cell_type": "markdown",
      "metadata": {
        "id": "lM76AAcLMHGK"
      },
      "source": [
        "1) A company decided to give bonus of 5% to employee if his/her year of service is more than 5 years.\n",
        "Ask user for their salary and year of service and print the net bonus amount."
      ]
    },
    {
      "cell_type": "code",
      "execution_count": 5,
      "metadata": {
        "id": "m-_N8WRQMHGP",
        "outputId": "14cc81b7-6238-4246-f4ec-a283e5f6e2fb",
        "colab": {
          "base_uri": "https://localhost:8080/"
        }
      },
      "outputs": [
        {
          "output_type": "stream",
          "name": "stdout",
          "text": [
            "Enter your salary:40000\n",
            "Enter your year of service: 8\n",
            "Congratulations! You are eligible for a bonus of 2000.00.\n"
          ]
        }
      ],
      "source": [
        "#Type your code here\n",
        "salary = float(input('Enter your salary:'))\n",
        "year_of_service = int(input(\"Enter your year of service: \"))\n",
        "if year_of_service > 5:\n",
        "  bonus_amount = 0.05 * salary\n",
        "  print(\"Congratulations! You are eligible for a bonus of {:.2f}.\".format(bonus_amount))\n",
        "else:\n",
        "   print(\"Sorry, you are not eligible for a bonus.\")"
      ]
    },
    {
      "cell_type": "markdown",
      "metadata": {
        "id": "EMGNW0wMMHGS"
      },
      "source": [
        "\n",
        "2) Write a program to check whether a person is eligible for voting or not. (accept age from user) if age is greater than 17 eligible otherwise not eligible"
      ]
    },
    {
      "cell_type": "code",
      "execution_count": 7,
      "metadata": {
        "id": "T2E-NHX5MHGT",
        "outputId": "1a794fec-92f4-47cd-85c9-d40ce9ad1bb1",
        "colab": {
          "base_uri": "https://localhost:8080/"
        }
      },
      "outputs": [
        {
          "output_type": "stream",
          "name": "stdout",
          "text": [
            "Enter your age: 8\n",
            "You are not eligible for voting\n"
          ]
        }
      ],
      "source": [
        "#Type your code here\n",
        "age = int(input(\"Enter your age: \"))\n",
        "if age > 17:\n",
        "  print('You are eligible for voting')\n",
        "else:\n",
        "  print('You are not eligible for voting')"
      ]
    },
    {
      "cell_type": "markdown",
      "metadata": {
        "id": "HuE6eWxWMHGU"
      },
      "source": [
        "\n",
        "3) Write a program to check whether a number entered by user is even or odd."
      ]
    },
    {
      "cell_type": "code",
      "execution_count": 11,
      "metadata": {
        "id": "POoh3JjWMHGU",
        "outputId": "b2ab8fd1-b315-4d16-fdbd-908e27dc0682",
        "colab": {
          "base_uri": "https://localhost:8080/"
        }
      },
      "outputs": [
        {
          "output_type": "stream",
          "name": "stdout",
          "text": [
            "Enter number: 20\n",
            "Number is even\n"
          ]
        }
      ],
      "source": [
        "#Type your code here\n",
        "num = int(input(\"Enter number: \"))\n",
        "if num%2 == 0:\n",
        "  print(\"Number is even\")\n",
        "else:\n",
        "  print(\"Number is odd\")"
      ]
    },
    {
      "cell_type": "markdown",
      "metadata": {
        "id": "1L93sovZMHGV"
      },
      "source": [
        "4) Write a program to check whether a number is divisible by 7 or not.\n",
        "Show Answer"
      ]
    },
    {
      "cell_type": "code",
      "execution_count": 13,
      "metadata": {
        "id": "wHEwrrNNMHGW",
        "outputId": "ea49c3d2-aba3-4a82-c6bd-b0a865ad0b8c",
        "colab": {
          "base_uri": "https://localhost:8080/"
        }
      },
      "outputs": [
        {
          "output_type": "stream",
          "name": "stdout",
          "text": [
            "Enter a number: 63\n",
            "63 is divisible by 7.\n"
          ]
        }
      ],
      "source": [
        "#Type your code here\n",
        "number = int(input(\"Enter a number: \"))\n",
        "\n",
        "if number % 7 == 0:\n",
        "    print(\"{} is divisible by 7.\".format(number))\n",
        "else:\n",
        "    print(\"{} is not divisible by 7.\".format(number))\n"
      ]
    },
    {
      "cell_type": "markdown",
      "metadata": {
        "id": "nsXfYT0xMHGX"
      },
      "source": [
        "5) Write a program to display\n",
        "\"Hello\" if a number entered by user is a multiple of five , otherwise print \"Bye\"."
      ]
    },
    {
      "cell_type": "code",
      "execution_count": 15,
      "metadata": {
        "id": "AShw0MhMMHGX",
        "outputId": "055a7717-0c79-44bc-b37b-a4349c967ab3",
        "colab": {
          "base_uri": "https://localhost:8080/"
        }
      },
      "outputs": [
        {
          "output_type": "stream",
          "name": "stdout",
          "text": [
            "Enter number: 22\n",
            "Bye\n"
          ]
        }
      ],
      "source": [
        "#Type your code here\n",
        "num = int(input(\"Enter number: \"))\n",
        "if num % 5 == 0:\n",
        "  print(\"Hello\")\n",
        "else:\n",
        "  print(\"Bye\")"
      ]
    },
    {
      "cell_type": "markdown",
      "metadata": {
        "id": "QqpLjv9XMHGY"
      },
      "source": [
        "7) Write a program to display the last digit of a number.\n"
      ]
    },
    {
      "cell_type": "code",
      "execution_count": 19,
      "metadata": {
        "id": "e7d0uvacMHGY",
        "outputId": "2ff74bd1-fc95-49f9-ecb5-fcad09616cc1",
        "colab": {
          "base_uri": "https://localhost:8080/"
        }
      },
      "outputs": [
        {
          "output_type": "stream",
          "name": "stdout",
          "text": [
            "Enter number: 89\n",
            "The last digit of 89 is: 9\n"
          ]
        }
      ],
      "source": [
        "#Type your code here\n",
        "number = int(input(\"Enter number: \"))\n",
        "last_digit = number % 10\n",
        "print(\"The last digit of {} is: {}\".format(number, last_digit))"
      ]
    },
    {
      "cell_type": "markdown",
      "metadata": {
        "id": "zERagr9WMHGY"
      },
      "source": [
        "9) Take values of length and breadth of a rectangle from user and print if it is square or rectangle."
      ]
    },
    {
      "cell_type": "code",
      "execution_count": 21,
      "metadata": {
        "id": "2PVXZ38ZMHGZ",
        "outputId": "09b36342-7c22-4179-a206-330292ef3878",
        "colab": {
          "base_uri": "https://localhost:8080/"
        }
      },
      "outputs": [
        {
          "output_type": "stream",
          "name": "stdout",
          "text": [
            "Enter Length: 6\n",
            "Enter Breadth: 6\n",
            "It is Square\n"
          ]
        }
      ],
      "source": [
        "#Type your code here\n",
        "length = int(input(\"Enter Length: \"))\n",
        "breadth = int(input(\"Enter Breadth: \"))\n",
        "if length == breadth:\n",
        "  print(\"It is Square\")\n",
        "else:\n",
        "  print(\"It is Rectangle\")\n",
        "\n"
      ]
    },
    {
      "cell_type": "markdown",
      "metadata": {
        "id": "0fvZPIGTMHGa"
      },
      "source": [
        "10) Take two int values from user and print greatest among them."
      ]
    },
    {
      "cell_type": "code",
      "execution_count": 24,
      "metadata": {
        "id": "FGrgICpaMHGa",
        "outputId": "71d501f5-d95b-4216-d66d-d860b3154ed8",
        "colab": {
          "base_uri": "https://localhost:8080/"
        }
      },
      "outputs": [
        {
          "output_type": "stream",
          "name": "stdout",
          "text": [
            "Enter value1: 44\n",
            "Enter value2: 23\n",
            "44  is the greatest number\n"
          ]
        }
      ],
      "source": [
        "# Type your code here\n",
        "int1 = int(input(\"Enter value1: \"))\n",
        "int2 = int(input(\"Enter value2: \"))\n",
        "if int1 > int2:\n",
        "  print(int1, ' is the greatest number')\n",
        "else:\n",
        "  print(int2, ' is the greatest number')\n"
      ]
    },
    {
      "cell_type": "markdown",
      "metadata": {
        "id": "zYs0AP7QMHGa"
      },
      "source": [
        "11) A shop will give discount of 10% if the cost of purchased quantity is more than 1000.\n",
        "Ask user for quantity\n",
        "Suppose, one unit will cost 100.\n",
        "Judge and print total cost for user."
      ]
    },
    {
      "cell_type": "code",
      "execution_count": 33,
      "metadata": {
        "id": "esiw7uZUMHGb",
        "outputId": "d80a1970-e070-4dcc-c6a0-88b707778dc0",
        "colab": {
          "base_uri": "https://localhost:8080/"
        }
      },
      "outputs": [
        {
          "output_type": "stream",
          "name": "stdout",
          "text": [
            "Enter Quantity: 11\n",
            "You total cost is  1100 and after Discount, Your Final bill is  110.0\n"
          ]
        }
      ],
      "source": [
        "#Type your code here\n",
        "quan = int(input(\"Enter Quantity: \"))\n",
        "cost = quan*100\n",
        "if cost > 1000:\n",
        "  print(\"You total cost is \", cost, 'and after Discount, Your Final bill is ', cost*0.1)\n",
        "else:\n",
        "  print(\"You total cost is \", cost)"
      ]
    },
    {
      "cell_type": "markdown",
      "metadata": {
        "id": "kIDbShKDMHGb"
      },
      "source": [
        "12) A school has following rules for grading system:\n",
        "\n",
        "a. Below 25 - F\n",
        "\n",
        "b. 25 to 45 - E\n",
        "\n",
        "c. 45 to 50 - D\n",
        "\n",
        "d. 50 to 60 - C\n",
        "\n",
        "e. 60 to 80 - B\n",
        "\n",
        "f. Above 80 - A\n",
        "\n",
        "Ask user to enter marks and print the corresponding grade."
      ]
    },
    {
      "cell_type": "code",
      "execution_count": 35,
      "metadata": {
        "id": "Au54IxklMHGc",
        "outputId": "0c548694-d8bd-4494-91aa-79c8725e4e09",
        "colab": {
          "base_uri": "https://localhost:8080/"
        }
      },
      "outputs": [
        {
          "output_type": "stream",
          "name": "stdout",
          "text": [
            "Enter your marks: 98\n",
            "Your grade is: A\n"
          ]
        }
      ],
      "source": [
        "#Type your code here\n",
        "# Ask the user to enter marks\n",
        "marks = float(input(\"Enter your marks: \"))\n",
        "\n",
        "# Define the grading system\n",
        "grade = ''\n",
        "if marks < 25:\n",
        "    grade = 'F'\n",
        "elif marks >= 25 and marks < 45:\n",
        "    grade = 'E'\n",
        "elif marks >= 45 and marks < 50:\n",
        "    grade = 'D'\n",
        "elif marks >= 50 and marks < 60:\n",
        "    grade = 'C'\n",
        "elif marks >= 60 and marks < 80:\n",
        "    grade = 'B'\n",
        "else:\n",
        "    grade = 'A'\n",
        "\n",
        "# Print the corresponding grade\n",
        "print(\"Your grade is:\", grade)\n"
      ]
    },
    {
      "cell_type": "markdown",
      "metadata": {
        "id": "LFGJBmHtMHGc"
      },
      "source": [
        "14)A student will not be allowed to sit in exam if his/her attendence is less than 75%.\n",
        "\n",
        "Take following input from user\n",
        "\n",
        "Number of classes held\n",
        "\n",
        "Number of classes attended.\n",
        "\n",
        "And print\n",
        "\n",
        "percentage of class attended\n",
        "\n",
        "Is student is allowed to sit in exam or not.\n"
      ]
    },
    {
      "cell_type": "code",
      "execution_count": 39,
      "metadata": {
        "id": "zT1Oz1aXMHGc",
        "outputId": "0442a2c0-54e9-471c-cd48-26db09f30179",
        "colab": {
          "base_uri": "https://localhost:8080/"
        }
      },
      "outputs": [
        {
          "output_type": "stream",
          "name": "stdout",
          "text": [
            "Enter number of classes held: 100\n",
            "Enter number of classes you attend: 80\n",
            "Percentage of class you attend  80.0 %\n",
            "You are allowed to sit in exam\n"
          ]
        }
      ],
      "source": [
        "#Type your code here\n",
        "num_of_classes_held = int(input(\"Enter number of classes held: \"))\n",
        "num_of_classes_attend = int(input(\"Enter number of classes you attend: \"))\n",
        "per = (num_of_classes_attend/num_of_classes_held)*100\n",
        "print(\"Percentage of class you attend \", per ,\"%\")\n",
        "if per < 75:\n",
        "  print(\"You are not allowed to sit in exam\")\n",
        "else:\n",
        "  print(\"You are allowed to sit in exam\")\n",
        "\n"
      ]
    },
    {
      "cell_type": "markdown",
      "metadata": {
        "id": "6jbIv9y6MHGc"
      },
      "source": [
        "15) Modify the above question to allow student to sit if he/she has medical cause. Ask user if he/she has medical cause or not ( 'Y' or 'N' ) and print accordingly."
      ]
    },
    {
      "cell_type": "code",
      "execution_count": 42,
      "metadata": {
        "id": "miU3ilGjMHGc",
        "outputId": "771304a2-baf9-439c-fdad-0b5c6af682d1",
        "colab": {
          "base_uri": "https://localhost:8080/"
        }
      },
      "outputs": [
        {
          "output_type": "stream",
          "name": "stdout",
          "text": [
            "Do you have a medical cause? (Y/N): Y\n",
            "Student has medical issue\n"
          ]
        }
      ],
      "source": [
        "#Type your code here\n",
        "medical_cause = input(\"Do you have a medical cause? (Y/N): \").upper()\n",
        "if medical_cause == 'Y':\n",
        "  print('Student has medical issue')\n",
        "else:\n",
        "  print('Student has no medical issue')"
      ]
    },
    {
      "cell_type": "markdown",
      "metadata": {
        "id": "oF6Y6U-MMHGd"
      },
      "source": [
        "16) Write a program to check if a year is leap year or not.\n",
        "\n",
        "If a year is divisible by 4 then it is leap year but if the year is century year like 2000, 1900, 2100 then it must be divisible by 400."
      ]
    },
    {
      "cell_type": "code",
      "execution_count": 44,
      "metadata": {
        "id": "pF5y0MI3MHGd",
        "outputId": "13acbf18-571d-444d-b860-44f2e0ef6f79",
        "colab": {
          "base_uri": "https://localhost:8080/"
        }
      },
      "outputs": [
        {
          "output_type": "stream",
          "name": "stdout",
          "text": [
            "Enter a year: 2023\n",
            "2023 is not a leap year.\n"
          ]
        }
      ],
      "source": [
        "#Type your code here\n",
        "# Ask the user to enter a year\n",
        "year = int(input(\"Enter a year: \"))\n",
        "\n",
        "# Check if it's a leap year\n",
        "if (year % 4 == 0 and year % 100 != 0) or (year % 400 == 0):\n",
        "    print(\"{} is a leap year.\".format(year))\n",
        "else:\n",
        "    print(\"{} is not a leap year.\".format(year))\n"
      ]
    },
    {
      "cell_type": "markdown",
      "metadata": {
        "id": "CRaiK-3cMHGd"
      },
      "source": [
        "17) Ask user to enter age, gender ( M or F ), marital status ( Y or N ) and then using following rules print their place of service.\n",
        "\n",
        "if employee is female, then she will work only in urban areas.\n",
        "\n",
        "if employee is a male and age is in between 20 to 40 then he may work in anywhere\n",
        "\n",
        "if employee is male and age is in between 40 t0 60 then he will work in urban areas only.\n",
        "\n",
        "And any other input of age should print \"ERROR\""
      ]
    },
    {
      "cell_type": "code",
      "execution_count": 45,
      "metadata": {
        "id": "QmtzbvT8MHGd",
        "outputId": "2c05775e-a28e-443e-bb05-ecce004e5710",
        "colab": {
          "base_uri": "https://localhost:8080/"
        }
      },
      "outputs": [
        {
          "output_type": "stream",
          "name": "stdout",
          "text": [
            "Enter your age: 20\n",
            "Enter your gender (M/F): F\n",
            "Are you married? (Y/N): N\n",
            "You will work in urban areas.\n"
          ]
        }
      ],
      "source": [
        "#Type your code here\n",
        "# Ask the user to enter age, gender, and marital status\n",
        "age = int(input(\"Enter your age: \"))\n",
        "gender = input(\"Enter your gender (M/F): \").upper()\n",
        "marital_status = input(\"Are you married? (Y/N): \").upper()\n",
        "\n",
        "if age < 20 or age > 60:\n",
        "    print(\"ERROR: Age must be between 20 and 60.\")\n",
        "elif gender == 'F':\n",
        "    print(\"You will work in urban areas.\")\n",
        "elif gender == 'M':\n",
        "    if 20 <= age <= 40:\n",
        "        print(\"You may work anywhere.\")\n",
        "    elif 40 <= age <= 60:\n",
        "        print(\"You will work in urban areas only.\")\n",
        "else:\n",
        "    print(\"ERROR: Invalid input for gender.\")\n",
        "\n"
      ]
    },
    {
      "cell_type": "code",
      "execution_count": null,
      "metadata": {
        "id": "TLn26fUiMHGd"
      },
      "outputs": [],
      "source": []
    },
    {
      "cell_type": "markdown",
      "metadata": {
        "id": "KDZGjE7aMHGd"
      },
      "source": [
        "6) Write a program to calculate the electricity bill (accept number of unit from user) according to the following criteria :\n",
        "     Unit                                                     Price  \n",
        "uptp 100 units                                             no charge\n",
        "Next 200 units                                              Rs 5 per unit\n",
        "After 200 units                                             Rs 10 per unit\n",
        "(For example if input unit is 350 than total bill amount is Rs.3500\n",
        "(For example if input unit is 97 than total bill amount is Rs.0\n",
        "(For example if input unit is 150 than total bill amount is Rs.750"
      ]
    },
    {
      "cell_type": "code",
      "source": [
        "# Ask the user to enter the number of units\n",
        "units = int(input(\"Enter the number of units consumed: \"))\n",
        "\n",
        "# Calculate the electricity bill\n",
        "total_bill = 0\n",
        "\n",
        "if units <= 100:\n",
        "    total_bill = 0\n",
        "elif units <= 300:\n",
        "    total_bill = (units - 100) * 5\n",
        "elif units > 300:\n",
        "    total_bill = (units - 300) * 10 + 200 * 5\n",
        "\n",
        "# Print the total bill amount\n",
        "print(\"Total bill amount is Rs.{}\".format(total_bill))\n"
      ],
      "metadata": {
        "id": "0oy8_CyZdJHt",
        "outputId": "d96347fd-e7b4-41cf-bcf4-ee796216bd8d",
        "colab": {
          "base_uri": "https://localhost:8080/"
        }
      },
      "execution_count": 46,
      "outputs": [
        {
          "output_type": "stream",
          "name": "stdout",
          "text": [
            "Enter the number of units consumed: 900\n",
            "Total bill amount is Rs.7000\n"
          ]
        }
      ]
    },
    {
      "cell_type": "markdown",
      "source": [
        " Take input of age of 3 people by user and determine oldest and youngest among them."
      ],
      "metadata": {
        "id": "qxSNeA7wdh_D"
      }
    },
    {
      "cell_type": "code",
      "execution_count": 49,
      "metadata": {
        "id": "Mt3OxZvIMHGe",
        "outputId": "505373ed-3c23-48f3-b427-e173007eef4c",
        "colab": {
          "base_uri": "https://localhost:8080/"
        }
      },
      "outputs": [
        {
          "output_type": "stream",
          "name": "stdout",
          "text": [
            "Enter the age of people1: 56\n",
            "Enter the age of people2: 78\n",
            "Enter the age of people3: 90\n",
            "People3 is oldest\n",
            "People1 is younest\n"
          ]
        }
      ],
      "source": [
        "#Type your code here\n",
        "age1 = int(input(\"Enter the age of people1: \"))\n",
        "age2 = int(input(\"Enter the age of people2: \"))\n",
        "age3 = int(input(\"Enter the age of people3: \"))\n",
        "\n",
        "if age1 > age2 and age1 > age3:\n",
        "  print(\"People1 is oldest\")\n",
        "  if age2 < age3 :\n",
        "    print('People2 is younest')\n",
        "  elif age3 < age2:\n",
        "    print('People3 is younest')\n",
        "elif age2 > age1 and age2 > age3:\n",
        "  print(\"People2 is oldest\")\n",
        "  if age1 < age3 :\n",
        "    print('People1 is younest')\n",
        "  elif age3 < age1:\n",
        "    print('People3 is younest')\n",
        "elif age3 > age1 and age3 > age2:\n",
        "  print(\"People3 is oldest\")\n",
        "  if age1 < age2 :\n",
        "    print('People1 is younest')\n",
        "  elif age2 < age1:\n",
        "    print('People1 is younest')\n"
      ]
    }
  ],
  "metadata": {
    "kernelspec": {
      "display_name": "Python 3 (ipykernel)",
      "language": "python",
      "name": "python3"
    },
    "language_info": {
      "codemirror_mode": {
        "name": "ipython",
        "version": 3
      },
      "file_extension": ".py",
      "mimetype": "text/x-python",
      "name": "python",
      "nbconvert_exporter": "python",
      "pygments_lexer": "ipython3",
      "version": "3.11.5"
    },
    "colab": {
      "provenance": []
    }
  },
  "nbformat": 4,
  "nbformat_minor": 0
}